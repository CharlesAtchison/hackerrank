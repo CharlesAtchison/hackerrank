{
 "cells": [
  {
   "cell_type": "markdown",
   "id": "53264d39",
   "metadata": {},
   "source": [
    "# Hacker Rank Exercise Solutions\n"
   ]
  },
  {
   "cell_type": "markdown",
   "id": "4e07f0ca",
   "metadata": {},
   "source": [
    "## String Split and Join"
   ]
  },
  {
   "cell_type": "code",
   "execution_count": 1,
   "id": "83fef9b8",
   "metadata": {},
   "outputs": [
    {
     "name": "stdout",
     "output_type": "stream",
     "text": [
      "this-is-a-string\n"
     ]
    }
   ],
   "source": [
    "def split_and_join(line):\n",
    "    return line.replace(' ', '-')\n",
    "\n",
    "print(split_and_join('this is a string'))"
   ]
  },
  {
   "cell_type": "markdown",
   "id": "5cd6c032",
   "metadata": {},
   "source": [
    "## What's your name?"
   ]
  },
  {
   "cell_type": "code",
   "execution_count": 2,
   "id": "98957e20",
   "metadata": {
    "scrolled": true
   },
   "outputs": [
    {
     "name": "stdout",
     "output_type": "stream",
     "text": [
      "Hello Ross Taylor! You just delved into python.\n",
      "None\n"
     ]
    }
   ],
   "source": [
    "def print_full_name(first, last):\n",
    "    print(f\"Hello {first + ' ' + last}! You just delved into python.\")\n",
    "    \n",
    "print(print_full_name('Ross', 'Taylor'))"
   ]
  },
  {
   "cell_type": "markdown",
   "id": "e7c1e14f",
   "metadata": {},
   "source": [
    "## Mutations"
   ]
  },
  {
   "cell_type": "code",
   "execution_count": 3,
   "id": "d426ab95",
   "metadata": {
    "scrolled": false
   },
   "outputs": [
    {
     "name": "stdout",
     "output_type": "stream",
     "text": [
      "abrackdabra\n"
     ]
    }
   ],
   "source": [
    "def mutate_string(string, position, character):\n",
    "    return f'{string[:position]}{character}{string[position+1:]}'\n",
    "\n",
    "\n",
    "print(mutate_string('abracadabra', 5, 'k'))"
   ]
  },
  {
   "cell_type": "markdown",
   "id": "a9598429",
   "metadata": {},
   "source": [
    "## Find a string"
   ]
  },
  {
   "cell_type": "code",
   "execution_count": 4,
   "id": "bd4afb72",
   "metadata": {},
   "outputs": [
    {
     "name": "stdout",
     "output_type": "stream",
     "text": [
      "2\n"
     ]
    }
   ],
   "source": [
    "def count_substring(string, sub_string):\n",
    "    count = 0\n",
    "    strlen = len(string)\n",
    "    sublen = len(sub_string)\n",
    "    for i in range(strlen):\n",
    "        if string[i:sublen+i] == sub_string:\n",
    "                count+= 1\n",
    "    return count\n",
    "\n",
    "print(count_substring('ABCDCDC', 'CDC'))"
   ]
  },
  {
   "cell_type": "markdown",
   "id": "3d1173da",
   "metadata": {},
   "source": [
    "## String Validators"
   ]
  },
  {
   "cell_type": "code",
   "execution_count": 5,
   "id": "9705a50d",
   "metadata": {},
   "outputs": [
    {
     "ename": "SyntaxError",
     "evalue": "invalid syntax (<ipython-input-5-ed50ff85c7de>, line 1)",
     "output_type": "error",
     "traceback": [
      "\u001b[0;36m  File \u001b[0;32m\"<ipython-input-5-ed50ff85c7de>\"\u001b[0;36m, line \u001b[0;32m1\u001b[0m\n\u001b[0;31m    s = 'qA2'bm\u001b[0m\n\u001b[0m             ^\u001b[0m\n\u001b[0;31mSyntaxError\u001b[0m\u001b[0;31m:\u001b[0m invalid syntax\n"
     ]
    }
   ],
   "source": [
    "s = 'qA2'bm\n",
    "\n",
    "funcs = ['isalnum', 'isalpha', 'isdigit', 'islower', 'isupper']\n",
    "\n",
    "for func in funcs:\n",
    "    is_in = False\n",
    "    for each_char in s:\n",
    "        if eval(f'each_char.{func}()'):\n",
    "            is_in = True\n",
    "    print(is_in)\n",
    "\n"
   ]
  },
  {
   "cell_type": "markdown",
   "id": "a44cf446",
   "metadata": {},
   "source": [
    "## Text Alignment"
   ]
  },
  {
   "cell_type": "code",
   "execution_count": null,
   "id": "c730a33e",
   "metadata": {},
   "outputs": [],
   "source": [
    "# thickness = int(input()) #This must be an odd number\n",
    "c = 'H'\n",
    "thickness = 5\n",
    "\n",
    "#Top Cone\n",
    "for i in range(thickness):\n",
    "    print((c*i).rjust(thickness-1)+c+(c*i).ljust(thickness-1))\n",
    "\n",
    "#Top Pillars\n",
    "for i in range(thickness+1):\n",
    "    print((c*thickness).center(thickness*2)+(c*thickness).center(thickness*6))\n",
    "\n",
    "#Middle Belt\n",
    "for i in range((thickness+1)//2):\n",
    "    print((c*thickness*5).center(thickness*6))    \n",
    "\n",
    "#Bottom Pillars\n",
    "for i in range(thickness+1):\n",
    "    print((c*thickness).center(thickness*2)+(c*thickness).center(thickness*6))    \n",
    "\n",
    "#Bottom Cone\n",
    "for i in range(thickness):\n",
    "    print(((c*(thickness-i-1)).rjust(thickness)+c+(c*(thickness-i-1)).ljust(thickness)).rjust(thickness*6))"
   ]
  },
  {
   "cell_type": "markdown",
   "id": "657ca709",
   "metadata": {},
   "source": [
    "## Text Wrap"
   ]
  },
  {
   "cell_type": "code",
   "execution_count": null,
   "id": "30f8dca7",
   "metadata": {
    "scrolled": true
   },
   "outputs": [],
   "source": [
    "def wrap(string, max_width):\n",
    "    iterations = len(string) // max_width\n",
    "    result = ''\n",
    "    for i in range(iterations+1):\n",
    "        base = i * max_width\n",
    "        result += string[base:(base+max_width)]+'\\n'\n",
    "    return result\n",
    "\n",
    "print(wrap('ABCDEFGHIJKLIMNOQRSTUVWXYZ', 4))"
   ]
  },
  {
   "cell_type": "markdown",
   "id": "6501a7a1",
   "metadata": {},
   "source": [
    "## Designer Door Mat"
   ]
  },
  {
   "cell_type": "code",
   "execution_count": null,
   "id": "e740f73e",
   "metadata": {},
   "outputs": [],
   "source": [
    "def door_mat_pattern(height, width):\n",
    "    wm = int((width - 7) / 2)\n",
    "    welcome = f\"{'-' * wm}WELCOME{'-' * wm}\"\n",
    "    pattern_result = []\n",
    "    design = '.|.'\n",
    "    dl = 1 # Start with 1 design\n",
    "    fl = int((width - 3) / 2) # filler length start\n",
    "    midmat = int((height - 1)/2)\n",
    "    mid = design\n",
    "    for row in range(1, midmat+1):\n",
    "        pattern_result.append(f\"{'-' * fl}{design * dl}{'-' * fl}\")\n",
    "        dl += 2\n",
    "        fl -= len(design)\n",
    "    mat = '\\n'.join(pattern_result) + '\\n' + welcome +'\\n'\n",
    "    pattern_result.reverse()\n",
    "    return mat + '\\n'.join(pattern_result)\n",
    "\n",
    "        \n",
    "\n",
    "\n",
    "test = str('9 27')\n",
    "h, w = map(int, test.split(' '))\n",
    "print(door_mat_pattern(h, w))"
   ]
  },
  {
   "cell_type": "markdown",
   "id": "37c99e78",
   "metadata": {},
   "source": [
    "## String Formatting"
   ]
  },
  {
   "cell_type": "code",
   "execution_count": 6,
   "id": "98e8cbff",
   "metadata": {},
   "outputs": [
    {
     "name": "stdout",
     "output_type": "stream",
     "text": [
      " 1  1  1  1\n",
      " 2  2  2 10\n"
     ]
    }
   ],
   "source": [
    "def print_formatted(number):\n",
    "    w = len(f'{number:b})') -1 \n",
    "    for n in range(1, number+1):\n",
    "        print(f'{n:{w}d} {n:{w}o} {n:{w}X} {n:{w}b}')\n",
    "        \n",
    "print_formatted(2)\n",
    "\n"
   ]
  },
  {
   "cell_type": "markdown",
   "id": "fd94708e",
   "metadata": {},
   "source": [
    "## Alphabet Rangoli"
   ]
  },
  {
   "cell_type": "code",
   "execution_count": 27,
   "id": "dd93ca24",
   "metadata": {},
   "outputs": [
    {
     "name": "stdout",
     "output_type": "stream",
     "text": [
      "--------e--------\n",
      "------e-d-e------\n",
      "----e-d-c-d-e----\n",
      "--e-d-c-b-c-d-e--\n",
      "e-d-c-b-a-b-c-d-e\n",
      "--e-d-c-b-c-d-e--\n",
      "----e-d-c-d-e----\n",
      "------e-d-e------\n",
      "--------e--------\n",
      "None\n"
     ]
    }
   ],
   "source": [
    "def print_rangoli(size):\n",
    "    w = size * 4 - 3 # Width of the Rangoli pattern\n",
    "    letters = [chr(ord('a') + n) for n in range(size)] # Produces the list of letters from 'a' to the letter count\n",
    "    num_rows = list(range(size)) \n",
    "    num_rows = num_rows[:-1]+num_rows[::-1] # row indexs\n",
    "    \n",
    "    for num in num_rows:\n",
    "        pattern = letters[-(num+1):]\n",
    "        row = pattern[::-1] + pattern[1:]\n",
    "        print('-'.join(row).center(w, '-'))\n",
    "\n",
    "    \n",
    "print(print_rangoli(5))"
   ]
  }
 ],
 "metadata": {
  "kernelspec": {
   "display_name": "Python 3",
   "language": "python",
   "name": "python3"
  },
  "language_info": {
   "codemirror_mode": {
    "name": "ipython",
    "version": 3
   },
   "file_extension": ".py",
   "mimetype": "text/x-python",
   "name": "python",
   "nbconvert_exporter": "python",
   "pygments_lexer": "ipython3",
   "version": "3.9.6"
  }
 },
 "nbformat": 4,
 "nbformat_minor": 5
}
