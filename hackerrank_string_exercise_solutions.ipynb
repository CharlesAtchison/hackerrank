{
 "cells": [
  {
   "cell_type": "markdown",
   "id": "53264d39",
   "metadata": {},
   "source": [
    "# Hacker Rank String Exercise Solutions\n"
   ]
  },
  {
   "cell_type": "markdown",
   "id": "4e07f0ca",
   "metadata": {},
   "source": [
    "## String Split and Join"
   ]
  },
  {
   "cell_type": "code",
   "execution_count": 1,
   "id": "83fef9b8",
   "metadata": {},
   "outputs": [
    {
     "name": "stdout",
     "output_type": "stream",
     "text": [
      "this-is-a-string\n"
     ]
    }
   ],
   "source": [
    "def split_and_join(line):\n",
    "    return line.replace(' ', '-')\n",
    "\n",
    "print(split_and_join('this is a string'))"
   ]
  },
  {
   "cell_type": "markdown",
   "id": "5cd6c032",
   "metadata": {},
   "source": [
    "## What's your name?"
   ]
  },
  {
   "cell_type": "code",
   "execution_count": 2,
   "id": "98957e20",
   "metadata": {
    "scrolled": true
   },
   "outputs": [
    {
     "name": "stdout",
     "output_type": "stream",
     "text": [
      "Hello Ross Taylor! You just delved into python.\n",
      "None\n"
     ]
    }
   ],
   "source": [
    "def print_full_name(first, last):\n",
    "    print(f\"Hello {first + ' ' + last}! You just delved into python.\")\n",
    "    \n",
    "print(print_full_name('Ross', 'Taylor'))"
   ]
  },
  {
   "cell_type": "markdown",
   "id": "e7c1e14f",
   "metadata": {},
   "source": [
    "## Mutations"
   ]
  },
  {
   "cell_type": "code",
   "execution_count": 3,
   "id": "d426ab95",
   "metadata": {
    "scrolled": false
   },
   "outputs": [
    {
     "name": "stdout",
     "output_type": "stream",
     "text": [
      "abrackdabra\n"
     ]
    }
   ],
   "source": [
    "def mutate_string(string, position, character):\n",
    "    return f'{string[:position]}{character}{string[position+1:]}'\n",
    "\n",
    "\n",
    "print(mutate_string('abracadabra', 5, 'k'))"
   ]
  },
  {
   "cell_type": "markdown",
   "id": "a9598429",
   "metadata": {},
   "source": [
    "## Find a string"
   ]
  },
  {
   "cell_type": "code",
   "execution_count": 4,
   "id": "bd4afb72",
   "metadata": {},
   "outputs": [
    {
     "name": "stdout",
     "output_type": "stream",
     "text": [
      "2\n"
     ]
    }
   ],
   "source": [
    "def count_substring(string, sub_string):\n",
    "    count = 0\n",
    "    strlen = len(string)\n",
    "    sublen = len(sub_string)\n",
    "    for i in range(strlen):\n",
    "        if string[i:sublen+i] == sub_string:\n",
    "                count+= 1\n",
    "    return count\n",
    "\n",
    "print(count_substring('ABCDCDC', 'CDC'))"
   ]
  },
  {
   "cell_type": "markdown",
   "id": "3d1173da",
   "metadata": {},
   "source": [
    "## String Validators"
   ]
  },
  {
   "cell_type": "code",
   "execution_count": 15,
   "id": "9705a50d",
   "metadata": {},
   "outputs": [
    {
     "name": "stdout",
     "output_type": "stream",
     "text": [
      "True\n",
      "True\n",
      "True\n",
      "True\n",
      "True\n"
     ]
    }
   ],
   "source": [
    "s = 'qA2'\n",
    "\n",
    "funcs = ['isalnum', 'isalpha', 'isdigit', 'islower', 'isupper']\n",
    "\n",
    "for func in funcs:\n",
    "    is_in = False\n",
    "    for each_char in s:\n",
    "        if eval(f'each_char.{func}()'):\n",
    "            is_in = True\n",
    "    print(is_in)\n",
    "\n"
   ]
  },
  {
   "cell_type": "markdown",
   "id": "a44cf446",
   "metadata": {},
   "source": [
    "## Text Alignment"
   ]
  },
  {
   "cell_type": "code",
   "execution_count": null,
   "id": "c730a33e",
   "metadata": {},
   "outputs": [],
   "source": [
    "# thickness = int(input()) #This must be an odd number\n",
    "c = 'H'\n",
    "thickness = 5\n",
    "\n",
    "#Top Cone\n",
    "for i in range(thickness):\n",
    "    print((c*i).rjust(thickness-1)+c+(c*i).ljust(thickness-1))\n",
    "\n",
    "#Top Pillars\n",
    "for i in range(thickness+1):\n",
    "    print((c*thickness).center(thickness*2)+(c*thickness).center(thickness*6))\n",
    "\n",
    "#Middle Belt\n",
    "for i in range((thickness+1)//2):\n",
    "    print((c*thickness*5).center(thickness*6))    \n",
    "\n",
    "#Bottom Pillars\n",
    "for i in range(thickness+1):\n",
    "    print((c*thickness).center(thickness*2)+(c*thickness).center(thickness*6))    \n",
    "\n",
    "#Bottom Cone\n",
    "for i in range(thickness):\n",
    "    print(((c*(thickness-i-1)).rjust(thickness)+c+(c*(thickness-i-1)).ljust(thickness)).rjust(thickness*6))"
   ]
  },
  {
   "cell_type": "markdown",
   "id": "657ca709",
   "metadata": {},
   "source": [
    "## Text Wrap"
   ]
  },
  {
   "cell_type": "code",
   "execution_count": null,
   "id": "30f8dca7",
   "metadata": {
    "scrolled": true
   },
   "outputs": [],
   "source": [
    "def wrap(string, max_width):\n",
    "    iterations = len(string) // max_width\n",
    "    result = ''\n",
    "    for i in range(iterations+1):\n",
    "        base = i * max_width\n",
    "        result += string[base:(base+max_width)]+'\\n'\n",
    "    return result\n",
    "\n",
    "print(wrap('ABCDEFGHIJKLIMNOQRSTUVWXYZ', 4))"
   ]
  },
  {
   "cell_type": "markdown",
   "id": "6501a7a1",
   "metadata": {},
   "source": [
    "## Designer Door Mat"
   ]
  },
  {
   "cell_type": "code",
   "execution_count": null,
   "id": "e740f73e",
   "metadata": {},
   "outputs": [],
   "source": [
    "def door_mat_pattern(height, width):\n",
    "    wm = int((width - 7) / 2)\n",
    "    welcome = f\"{'-' * wm}WELCOME{'-' * wm}\"\n",
    "    pattern_result = []\n",
    "    design = '.|.'\n",
    "    dl = 1 # Start with 1 design\n",
    "    fl = int((width - 3) / 2) # filler length start\n",
    "    midmat = int((height - 1)/2)\n",
    "    mid = design\n",
    "    for row in range(1, midmat+1):\n",
    "        pattern_result.append(f\"{'-' * fl}{design * dl}{'-' * fl}\")\n",
    "        dl += 2\n",
    "        fl -= len(design)\n",
    "    mat = '\\n'.join(pattern_result) + '\\n' + welcome +'\\n'\n",
    "    pattern_result.reverse()\n",
    "    return mat + '\\n'.join(pattern_result)\n",
    "\n",
    "        \n",
    "\n",
    "\n",
    "test = str('9 27')\n",
    "h, w = map(int, test.split(' '))\n",
    "print(door_mat_pattern(h, w))"
   ]
  },
  {
   "cell_type": "markdown",
   "id": "37c99e78",
   "metadata": {},
   "source": [
    "## String Formatting"
   ]
  },
  {
   "cell_type": "code",
   "execution_count": 6,
   "id": "98e8cbff",
   "metadata": {},
   "outputs": [
    {
     "name": "stdout",
     "output_type": "stream",
     "text": [
      " 1  1  1  1\n",
      " 2  2  2 10\n"
     ]
    }
   ],
   "source": [
    "def print_formatted(number):\n",
    "    w = len(f'{number:b})') -1 \n",
    "    for n in range(1, number+1):\n",
    "        print(f'{n:{w}d} {n:{w}o} {n:{w}X} {n:{w}b}')\n",
    "        \n",
    "print_formatted(2)\n",
    "\n"
   ]
  },
  {
   "cell_type": "markdown",
   "id": "fd94708e",
   "metadata": {},
   "source": [
    "## Alphabet Rangoli"
   ]
  },
  {
   "cell_type": "code",
   "execution_count": 27,
   "id": "dd93ca24",
   "metadata": {},
   "outputs": [
    {
     "name": "stdout",
     "output_type": "stream",
     "text": [
      "--------e--------\n",
      "------e-d-e------\n",
      "----e-d-c-d-e----\n",
      "--e-d-c-b-c-d-e--\n",
      "e-d-c-b-a-b-c-d-e\n",
      "--e-d-c-b-c-d-e--\n",
      "----e-d-c-d-e----\n",
      "------e-d-e------\n",
      "--------e--------\n",
      "None\n"
     ]
    }
   ],
   "source": [
    "def print_rangoli(size):\n",
    "    w = size * 4 - 3 # Width of the Rangoli pattern\n",
    "    letters = [chr(ord('a') + n) for n in range(size)] # Produces the list of letters from 'a' to the letter count\n",
    "    num_rows = list(range(size)) \n",
    "    num_rows = num_rows[:-1]+num_rows[::-1] # row indexs\n",
    "    \n",
    "    for num in num_rows:\n",
    "        pattern = letters[-(num+1):]\n",
    "        row = pattern[::-1] + pattern[1:]\n",
    "        print('-'.join(row).center(w, '-'))\n",
    "\n",
    "    \n",
    "print(print_rangoli(5))"
   ]
  },
  {
   "cell_type": "markdown",
   "id": "1a89c5a3",
   "metadata": {},
   "source": [
    "## Capitalize!"
   ]
  },
  {
   "cell_type": "code",
   "execution_count": 46,
   "id": "7d792b3c",
   "metadata": {},
   "outputs": [
    {
     "name": "stdout",
     "output_type": "stream",
     "text": [
      "1 W 2 R 3g\n"
     ]
    }
   ],
   "source": [
    "def solve(s):\n",
    "    for i in s.split():\n",
    "        s = s.replace(i,i.capitalize())\n",
    "    return s\n",
    "    \n",
    "\n",
    "test = 'chris lee alan'\n",
    "test2 = '1 w 2 r 3g'\n",
    "print(solve(test2))"
   ]
  },
  {
   "attachments": {
    "image.png": {
     "image/png": "[encoded data removed]"
    }
   },
   "cell_type": "markdown",
   "id": "810c3577",
   "metadata": {},
   "source": [
    "## The Minion Game\n",
    "\n",
    "Kevin and Stuart want to play the '__The Minion Game__'.\n",
    "\n",
    "### __Game Rules__\n",
    "\n",
    "\n",
    "Both players are given the same string, ${S}$.\n",
    "\n",
    "Both players have to make substrings using the letters of the string ${S}$.\n",
    "\n",
    "Stuart has to make words starting with consonants.\n",
    "\n",
    "Kevin has to make words starting with vowels. \n",
    "\n",
    "The game ends when both players have made all possible substrings. \n",
    "\n",
    "### Scoring\n",
    "\n",
    "A player gets +1 point for each occurrence of the substring in the string ${S}$.\n",
    "\n",
    "### For Example:\n",
    "\n",
    "String ${S}$ = BANANA\n",
    "\n",
    "Kevin's vowel beginning word = ANA\n",
    "\n",
    "Here, ANA occurs twice in BANANA. Hence, Kevin will get 2 Points. \n",
    "\n",
    "_For better understanding, see the image below_\n",
    "\n",
    "![image.png](attachment:image.png)\n",
    "\n",
    "Your task is to determien the winner of the game and their score.\n",
    "\n",
    "### Function Description\n",
    "\n",
    "Complete the minion_game in the editor below.\n",
    "minion_game has the following parameters:\n",
    "* string string: the string to analyze\n",
    "\n",
    "### Prints\n",
    "* string: the winner's name and score, separated by a space on one line, or _Draw_ if there is no winner.\n",
    "\n",
    "### Input Format\n",
    "A single line of input containing the string ${S}$.\n",
    "__Note__: The string ${S}$ will contain only uppercase letters $[ {A} - {Z}]$.\n",
    "\n",
    "### Constraints\n",
    "$\n",
    "0 < len({S}) \\leq 10^6\n",
    "$\n",
    "\n",
    "### Sample Input\n",
    "\n",
    "```BANANA```\n",
    "\n",
    "### Sample Output\n",
    "```Stuart 12```"
   ]
  },
  {
   "cell_type": "code",
   "execution_count": 13,
   "id": "c1f99fdd",
   "metadata": {},
   "outputs": [],
   "source": [
    "def minion_game(string):\n",
    "    '''This code does not result in the correct answer that will pass the\n",
    "    test case scenarios. However, it accounts for all substrings that are \n",
    "    noted in the above picture.\n",
    "    '''\n",
    "    def is_vowel(c):\n",
    "        if c in 'AEIOU':\n",
    "            return True\n",
    "        return False\n",
    "    \n",
    "    all_substrings = set([string[i:j] for i in range(len(string)) for j in range(i + 1, len(string) + 1)])\n",
    "    \n",
    "    s_subs = [sub for sub in all_substrings if not is_vowel(sub[0])] # Creates all substrings for Stuart\n",
    "    s_results = list(map(lambda sub: (sub, string.count(sub)), s_subs)) # Counts all occurances of substrings\n",
    "    s_score = sum(ele[1] for ele in s_results)\n",
    "    s_results.sort(key=lambda e: len(e[0]))\n",
    "#     print(s_results) # To view the results if you want the breakdown of each word and score\n",
    "\n",
    "    k_subs = [sub for sub in all_substrings if is_vowel(sub[0])] # Creates all substrings for Kevin\n",
    "    k_results = list(map(lambda sub: (sub, string.count(sub)), k_subs)) # Counts all occurances of substrings\n",
    "    k_score = sum(ele[1] for ele in k_results)\n",
    "    k_results.sort(key=lambda e: len(e[0])) # To view the results if you want the breakdown of each word and score\n",
    "    \n",
    "    for s in k_results:\n",
    "        print(s)\n",
    "    \n",
    "    game1 = minion_game2(string)\n",
    "    game2 = k_results, s_results\n",
    "    \n",
    "    if k_score > s_score:\n",
    "        print(f'Kevin {k_score}')\n",
    "    elif s_score > k_score:\n",
    "        print(f'Stuart {s_score}')\n",
    "    else:\n",
    "        print(f'Draw')\n",
    "\n",
    "\n",
    "test = 'BANANA'\n",
    "test2 = 'EQQAEAOQYEQEYYOEEQQYAOEEAQEEOOEYAYOEYAYAEOQYAAYAOYYOQAAYEQAOOAQEAEYAOEEQYYEEAOAOAEQOEYOAOEYOOAAOQEOYEAYYOEAOAQEYYEOQEEEYAOOAYOOAQAEOYOYAEOYQEEEOOQOEAOAAQAOQEYOQEAEAEOOOOQOYQOEQQYEEEYEEOQYYYOEQOQEYAYQQOYEEOAEQOEEEEAAEEYAAQAAQAAYOEAQAQYEYYYEAOYOQEQOOEQOYAYAEEYQAYYQYYAEAYOEYEAOQQQOYYYOYYOYYQYAOEOAOAOYEAAOEOEAEYQAEAQOEOYEEAQOAOQEYOEQOAQQEEYOOAQQOOEYQAQOEEOOOAAQOQEYYOEOOQOOAEYEOOAEQYQOAEYYYAQAYOEYOEYYEEOEEOAYAEEQEQOAAAYAEYQQAYOYQQOAEAOQOOYAEEOAEQAQEEQYOOEEAEEAAOYQYQAOEQYOYEQEAAOYAQAQYEAQEQEEOQQQYEYOQ'\n",
    "test3 = 'BANANANAAAS'"
   ]
  },
  {
   "cell_type": "code",
   "execution_count": 1,
   "id": "f2f63fb5",
   "metadata": {
    "scrolled": false
   },
   "outputs": [],
   "source": [
    "def minion_game(string):\n",
    "    vowels = 'AEIOU'\n",
    "    str_lenght = len(string)\n",
    "    kevin_score, stuart_score = 0, 0\n",
    "    kevin_results = []\n",
    "    stuart_results = []\n",
    "\n",
    "    for i in range(str_lenght):\n",
    "        if string[i] in vowels:\n",
    "            kevin_results.append((string[i], (str_lenght - i)))\n",
    "            kevin_score += (str_lenght - i)\n",
    "        else:\n",
    "            stuart_results.append((string[i], (str_lenght - i)))\n",
    "            stuart_score += (str_lenght - i)\n",
    "            \n",
    "    if kevin_score > stuart_score:\n",
    "        print(\"Kevin\", kevin_score)\n",
    "    elif kevin_score < stuart_score:\n",
    "        print(\"Stuart\", stuart_score)\n",
    "    else:\n",
    "        print(\"Draw\")"
   ]
  },
  {
   "cell_type": "markdown",
   "id": "bd2c07f9",
   "metadata": {},
   "source": [
    "## Merge the Tools!\n",
    "\n",
    "Consider the following:\n",
    "\n",
    "* A string, ${s}$, of length ${n}$ where ${s} = {c}_0{c}_1...{c}_{n-1}$.\n",
    "\n",
    "\n",
    "* An integer, ${k}$, where ${k}$ is a factor of ${n}$.\n",
    "\n",
    "\n",
    "We can split ${s}$ into $\\frac{n}{k}$ substrings where each subtring, ${t}_{i}$, consists of a contiguous block of ${k}$ characters in ${s}$.\n",
    "\n",
    "Then, use each  to create string  such that:\n",
    "\n",
    "* The characters in ${u}_{i}$ are a subsequence of the characters in ${t}_{i}$.\n",
    "\n",
    "* Any repeat occurrence of a character is removed from the string such that each character in ${u}_{i}$ occurs exactly once. In other words, if the character at some index ${j}$ in ${t}_{i}$ occurs at a previous index $< {j}$ in ${t}_{i}$, then do not include the character in string ${u}_{i}$.\n",
    "\n",
    "Given ${s}$ and ${k}$, print $\\frac{n}{k}$ lines where each line  denotes string ${u}_{i}$.\n",
    "\n",
    "### Example\n",
    "\n",
    "${s}='AAABCADDE'$\n",
    "\n",
    "${k}=3$\n",
    "\n",
    "There are three substrings of length $3$ to consider: 'AAA', 'BCA' and 'DDE'. The first substring is all 'A' characters, so ${u}_{1}='A'$. The second substring has all distinct characters, so ${u}_{2}='BCA'$. The third substring has $2$ different characters, so ${u}_{3}='DE'$. Note that a subsequence maintains the original order of characters encountered. The order of characters in each subsequence shown is important.\n",
    "\n",
    "### Function Description\n",
    "\n",
    "Complete the merge_the_tools function in the editor below.\n",
    "merge_the_tools has the following parameters:\n",
    "* string s: the string to analyze\n",
    "* int k: the size of substrings to analyze\n",
    "\n",
    "### Prints\n",
    "\n",
    "Print each subsequence on a new line. There will be $\\frac{n}{k}$ of them. No return value is expected.\n",
    "\n",
    "### Input Format\n",
    "\n",
    "The first line contains a single string, ${s}$. \n",
    "\n",
    "The second line contains an integer, ${k}$, the length of each substring.\n",
    "\n",
    "### Constraints \n",
    "\n",
    "* $1 \\le {n} \\le 10^4$, where ${n}$ is the length of ${s}$\n",
    "\n",
    "\n",
    "* $1 \\le {k} \\le {n}$\n",
    "\n",
    "\n",
    "* It is guaranteed that ${n}$ is a multiple of ${k}$.\n",
    "\n",
    "\n",
    "### Sample Input \n",
    "\n",
    "<code>\n",
    "STDIN       Function\n",
    "-----       --------\n",
    "AABCAAADA   s = 'AABCAAADA'\n",
    "3           k = 3$\n",
    "</code>\n",
    "\n",
    "\n",
    "### Sample Output\n",
    "\n",
    "\n",
    "<code>\n",
    "AB\n",
    "CA\n",
    "AD\n",
    "</code>\n",
    "\n",
    "\n",
    "### Explanation\n",
    "\n",
    "Split ${s}$ into $\\frac{n}{k} = \\frac{9}{3} = 3$  equal parts of length ${k} = 3$. Convert each ${t}_{i}$ to ${u}_{i}$ by removing any subsequent occurrences of non-distinct characters in ${t}_{i}$:\n",
    "\n",
    "1. $ {t}_0= AAB \\rightarrow {u}_0 =AB$\n",
    "\n",
    "2. $ {t}_1 = CAA \\rightarrow {u}_1 =CA$\n",
    "\n",
    "3. $ {t}_2 = ADA \\rightarrow {u}_2 = AD$\n",
    "\n",
    "\n",
    "Print each ${u}_{i}$ on a new line."
   ]
  },
  {
   "cell_type": "code",
   "execution_count": 41,
   "id": "e6b7423c",
   "metadata": {},
   "outputs": [
    {
     "name": "stdout",
     "output_type": "stream",
     "text": [
      "A\n",
      "BCA\n",
      "DE\n"
     ]
    }
   ],
   "source": [
    "s = 'AAABCADDE'\n",
    "k = 3\n",
    "\n",
    "def merge_the_tools(string, k):\n",
    "    t_i = int((len(string) + 1) / k)\n",
    "    all_substrings = [''.join(list((dict.fromkeys(string[s*k:(s*k)+k])).keys())) for s in range(t_i)]\n",
    "    for ele in all_substrings:\n",
    "        print(ele)\n",
    "        \n",
    "merge_the_tools(s, k)"
   ]
  }
 ],
 "metadata": {
  "kernelspec": {
   "display_name": "Python 3",
   "language": "python",
   "name": "python3"
  },
  "language_info": {
   "codemirror_mode": {
    "name": "ipython",
    "version": 3
   },
   "file_extension": ".py",
   "mimetype": "text/x-python",
   "name": "python",
   "nbconvert_exporter": "python",
   "pygments_lexer": "ipython3",
   "version": "3.8.8"
  }
 },
 "nbformat": 4,
 "nbformat_minor": 5
}
