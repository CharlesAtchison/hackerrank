{
 "cells": [
  {
   "cell_type": "markdown",
   "id": "9b05b5b5",
   "metadata": {},
   "source": [
    "# Itertools Exercise Solutions"
   ]
  },
  {
   "cell_type": "markdown",
   "id": "c7ec72f1",
   "metadata": {},
   "source": [
    "## itertools.product()\n",
    "\n",
    "### Given two lists ${A}$ and ${B}$. Your task is to compute their catesian product ${A}x{B}$"
   ]
  },
  {
   "cell_type": "code",
   "execution_count": null,
   "id": "a094344b",
   "metadata": {},
   "outputs": [],
   "source": [
    "from itertools import product\n",
    "\n",
    "ListAB = product(*(map(int, list(input().split())), map(int, list(input().split()))))\n",
    "print(' '.join(map(str, ListAB)))"
   ]
  },
  {
   "cell_type": "markdown",
   "id": "469d3cbd",
   "metadata": {},
   "source": [
    "## itertools.permutations()\n",
    "\n",
    "### Task is to print all possible permutations of size ${k}$ of the string in lexicographic sorted order"
   ]
  },
  {
   "cell_type": "code",
   "execution_count": 24,
   "id": "a8a89871",
   "metadata": {},
   "outputs": [
    {
     "name": "stdout",
     "output_type": "stream",
     "text": [
      "AC\n",
      "AH\n",
      "AK\n",
      "CA\n",
      "CH\n",
      "CK\n",
      "HA\n",
      "HC\n",
      "HK\n",
      "KA\n",
      "KC\n",
      "KH\n"
     ]
    }
   ],
   "source": [
    "from itertools import permutations\n",
    "\n",
    "def permutate(S:str, k:int)->str:\n",
    "    '''Prints all permutations of length k for the input string lexicographical sorted order\n",
    "    \n",
    "    Args:\n",
    "        S: value to be permutated\n",
    "        k: defines the length of the permutation\n",
    "    Returns:\n",
    "        None:\n",
    "            prints all possible permutations\n",
    "    '''\n",
    "    ListOfPerms = (list(map(lambda x: ''.join(x), permutations(S, k))))\n",
    "    ListOfPerms.sort()\n",
    "    [print(perm) for perm in ListOfPerms]\n",
    "\n",
    "S, k = 'HACK 2'.split()\n",
    "permutate(S, int(k))\n"
   ]
  },
  {
   "cell_type": "markdown",
   "id": "b4ecde27",
   "metadata": {},
   "source": [
    "## itertools.combinations()\n",
    "\n",
    "### Task is to print all possible combinations, up to size ${k}$, of the string in lexicographic sorted order."
   ]
  },
  {
   "cell_type": "code",
   "execution_count": 101,
   "id": "142f7a35",
   "metadata": {},
   "outputs": [
    {
     "name": "stdout",
     "output_type": "stream",
     "text": [
      "A\n",
      "C\n",
      "H\n",
      "K\n",
      "AC\n",
      "AH\n",
      "AK\n",
      "CH\n",
      "CK\n",
      "HK\n"
     ]
    }
   ],
   "source": [
    "from itertools import combinations\n",
    "\n",
    "def combinations_ofs(S:str, k:int)->str:\n",
    "    '''Prints all combinations of length k for the input string in lexicographical sorted order\n",
    "    \n",
    "    Args:\n",
    "        S: value to be combined\n",
    "        k: defines the length of the combinations\n",
    "    Returns:\n",
    "        None:\n",
    "            prints all possible combinations in \n",
    "    '''\n",
    "    ListOfCombs = [list(combinations(S, r)) for r in range(1, k+1)]\n",
    "    ListOfCombs = [sorted(list(tup)) for lst in ListOfCombs for tup in lst]\n",
    "    ListOfCombs = [''.join(lst) for lst in ListOfCombs]\n",
    "    ListOfCombs.sort(key=lambda item: (len(item), item))\n",
    "    [print(comb) for comb in ListOfCombs]\n",
    "    \n",
    "    \n",
    "\n",
    "S, k = 'HACK 2'.split() # Replace 'HACK 2' with input()\n",
    "combinations_ofs(S, int(k))"
   ]
  }
 ],
 "metadata": {
  "kernelspec": {
   "display_name": "Python 3",
   "language": "python",
   "name": "python3"
  },
  "language_info": {
   "codemirror_mode": {
    "name": "ipython",
    "version": 3
   },
   "file_extension": ".py",
   "mimetype": "text/x-python",
   "name": "python",
   "nbconvert_exporter": "python",
   "pygments_lexer": "ipython3",
   "version": "3.9.6"
  }
 },
 "nbformat": 4,
 "nbformat_minor": 5
}
