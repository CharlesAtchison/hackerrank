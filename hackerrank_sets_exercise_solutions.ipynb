{
 "cells": [
  {
   "cell_type": "markdown",
   "id": "6c5a48c6",
   "metadata": {},
   "source": [
    "# HackerRank Sets Exercise Solutions"
   ]
  },
  {
   "cell_type": "markdown",
   "id": "2a1d1293",
   "metadata": {},
   "source": [
    "## Check Subset"
   ]
  },
  {
   "cell_type": "code",
   "execution_count": null,
   "id": "e7aa8495",
   "metadata": {},
   "outputs": [],
   "source": [
    "T = int(input())\n",
    "ListOfInputs = []\n",
    "for n in range(T*4):\n",
    "    ListOfInputs.append(input())\n",
    "\n",
    "# # list of arrays containing sets (A, B) respectively\n",
    "ListOfSets = [(set(ListOfInputs[s+1].split()), set(ListOfInputs[s+3].split())) for s in range(0, len(ListOfInputs), 4)]\n",
    "for each_arr in ListOfSets:\n",
    "    A,B = each_arr[0], each_arr[1]\n",
    "    print(True if A.issubset(B) else False)\n"
   ]
  }
 ],
 "metadata": {
  "kernelspec": {
   "display_name": "Python 3",
   "language": "python",
   "name": "python3"
  },
  "language_info": {
   "codemirror_mode": {
    "name": "ipython",
    "version": 3
   },
   "file_extension": ".py",
   "mimetype": "text/x-python",
   "name": "python",
   "nbconvert_exporter": "python",
   "pygments_lexer": "ipython3",
   "version": "3.8.8"
  }
 },
 "nbformat": 4,
 "nbformat_minor": 5
}
