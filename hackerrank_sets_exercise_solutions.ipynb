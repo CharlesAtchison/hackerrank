{
 "cells": [
  {
   "cell_type": "markdown",
   "id": "6c5a48c6",
   "metadata": {},
   "source": [
    "# HackerRank Sets Exercise Solutions"
   ]
  },
  {
   "cell_type": "markdown",
   "id": "2a1d1293",
   "metadata": {},
   "source": [
    "## Check Subset"
   ]
  },
  {
   "cell_type": "code",
   "execution_count": null,
   "id": "e7aa8495",
   "metadata": {},
   "outputs": [],
   "source": [
    "T = int(input())\n",
    "ListOfInputs = []\n",
    "for n in range(T*4):\n",
    "    ListOfInputs.append(input())\n",
    "\n",
    "# # list of arrays containing sets (A, B) respectively\n",
    "ListOfSets = [(set(ListOfInputs[s+1].split()), set(ListOfInputs[s+3].split())) for s in range(0, len(ListOfInputs), 4)]\n",
    "for each_arr in ListOfSets:\n",
    "    A,B = each_arr[0], each_arr[1]\n",
    "    print(True if A.issubset(B) else False)\n"
   ]
  },
  {
   "cell_type": "markdown",
   "id": "e65ebdab",
   "metadata": {},
   "source": [
    "## Check Strict Superset"
   ]
  },
  {
   "cell_type": "code",
   "execution_count": 16,
   "id": "719d7eaf",
   "metadata": {
    "scrolled": false
   },
   "outputs": [
    {
     "name": "stdout",
     "output_type": "stream",
     "text": [
      "1 2 3 4 5 6 7 8 9 10 11 12 23 45 84 78\n",
      "2\n",
      "1 2 3 4 5\n",
      "100 11 12\n",
      "False\n"
     ]
    }
   ],
   "source": [
    "A = set(input().split())\n",
    "N = int(input())\n",
    "ListOfSets = []\n",
    "for n in range(N):\n",
    "    B = set(input().split())\n",
    "    ListOfSets.append(A.issuperset(B) and A != B)\n",
    "print(all(ListOfSets))\n"
   ]
  },
  {
   "cell_type": "markdown",
   "id": "6b18e1e4",
   "metadata": {},
   "source": [
    "## Collections.namedtuple()"
   ]
  },
  {
   "cell_type": "code",
   "execution_count": 72,
   "id": "e49a5934",
   "metadata": {},
   "outputs": [
    {
     "name": "stdout",
     "output_type": "stream",
     "text": [
      "52\n"
     ]
    }
   ],
   "source": [
    "from collections import namedtuple\n",
    "\n",
    "N = int(input())\n",
    "x = namedtuple('x', input()) # x is just a holder value\n",
    "student_list = [x(*input().split()) for n in range(N)]\n",
    "print(f'{sum([int(x.MARKS) for x in student_list])/N:0.2f}')\n",
    "\n"
   ]
  },
  {
   "cell_type": "markdown",
   "id": "3c9a4c76",
   "metadata": {},
   "source": [
    "## itertools.product()\n",
    "\n",
    "### Given two lists ${A}$ and ${B}$. Your task is to compute their catesian product ${A}x{B}$"
   ]
  },
  {
   "cell_type": "code",
   "execution_count": 7,
   "id": "8b8a58d6",
   "metadata": {
    "scrolled": true
   },
   "outputs": [
    {
     "name": "stdout",
     "output_type": "stream",
     "text": [
      "('1', '3')\n",
      "('1', '4')\n",
      "('2', '3')\n",
      "('2', '4')\n"
     ]
    },
    {
     "data": {
      "text/plain": [
       "[None, None, None, None]"
      ]
     },
     "execution_count": 7,
     "metadata": {},
     "output_type": "execute_result"
    }
   ],
   "source": [
    "from itertools import product\n",
    "\n",
    "ListAB = product(*(map(int, list(input().split())), map(int, list(input().split()))))\n",
    "print(' '.join(map(str, ListAB)))"
   ]
  },
  {
   "cell_type": "markdown",
   "id": "8a43e404",
   "metadata": {},
   "source": [
    "## collections.OrderedDict\n",
    "\n"
   ]
  },
  {
   "cell_type": "code",
   "execution_count": 31,
   "id": "0120d2a9",
   "metadata": {},
   "outputs": [
    {
     "name": "stdout",
     "output_type": "stream",
     "text": [
      "BANANA FRIES 12\n",
      "POTATO CHIPS 60\n",
      "APPLE JUICE 20\n",
      "CANDY 20\n"
     ]
    }
   ],
   "source": [
    "from collections import OrderedDict\n",
    "\n",
    "S = '''BANANA FRIES 12\n",
    "POTATO CHIPS 30\n",
    "APPLE JUICE 10\n",
    "CANDY 5\n",
    "APPLE JUICE 10\n",
    "CANDY 5\n",
    "CANDY 5\n",
    "CANDY 5\n",
    "POTATO CHIPS 30'''\n",
    "\n",
    "N = 9\n",
    "\n",
    "# val = [item for item in range(N)]\n",
    "\n",
    "counts = OrderedDict()\n",
    "\n",
    "val = [string.split() for string in S.split('\\n')]\n",
    "for v in val:\n",
    "    key = ' '.join(v[:-1])\n",
    "    if key not in counts:\n",
    "        counts[key] = int(v[-1])\n",
    "    else:\n",
    "        counts[key] += int(v[-1])\n",
    "for k in counts:\n",
    "    print(k, counts[k])b"
   ]
  },
  {
   "cell_type": "markdown",
   "id": "4db259db",
   "metadata": {},
   "source": []
  }
 ],
 "metadata": {
  "kernelspec": {
   "display_name": "Python 3",
   "language": "python",
   "name": "python3"
  },
  "language_info": {
   "codemirror_mode": {
    "name": "ipython",
    "version": 3
   },
   "file_extension": ".py",
   "mimetype": "text/x-python",
   "name": "python",
   "nbconvert_exporter": "python",
   "pygments_lexer": "ipython3",
   "version": "3.8.8"
  }
 },
 "nbformat": 4,
 "nbformat_minor": 5
}
