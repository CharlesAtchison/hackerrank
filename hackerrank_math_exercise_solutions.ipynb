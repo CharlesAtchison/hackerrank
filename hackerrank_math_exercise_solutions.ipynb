{
 "cells": [
  {
   "cell_type": "markdown",
   "id": "28b45f02",
   "metadata": {},
   "source": [
    "# HackerRank Math Exercises"
   ]
  },
  {
   "attachments": {
    "image.png": {
     "image/png": "[encoded data removed]"
    }
   },
   "cell_type": "markdown",
   "id": "6b4f024a",
   "metadata": {},
   "source": [
    "__Polar coordinates__ are an alternative way of representing Cartesian coordinates or <a href='https://en.wikipedia.org/wiki/Complex_number'>Complex Numbers</a>.\n",
    "\n",
    "\n",
    "<center>$z = x + yi$</center>\n",
    "\n",
    "is completely determined by its real part ${x}$ and imaginary part ${y}$. \n",
    "\n",
    "Here, ${j}$ is the imaginary unit.\n",
    "A polar coordinate ($r, \\varphi$) \n",
    "\n",
    "![image.png](attachment:image.png)\n",
    "\n",
    "is completely determined by modulus ${r}$ and phase angle ${\\varphi}$.\n",
    "\n",
    "If we convert complex number ${z}$ to its polar coordinate, we find:\n",
    "\n",
    "${r}$: Distance from  to origin, i.e., $\\sqrt{{x}^2 + {y}^2}$ \n",
    "\n",
    "$\\varphi$: Counter clockwise angle measured from the positive ${x}$-axis to the line segment that joins ${z}$ to the origin.\n",
    "\n",
    "\n",
    "Python's <a href='https://docs.python.org/2/library/cmath.html'>cmath</a> module provides access to the mathematical functions for complex numbers.\n",
    "\n",
    "$cmath.phase$\n",
    " \n",
    "This tool returns the phase of complex number ${z}$ (also known as the argument of ${z}$).\n",
    "\n",
    "\n",
    "<code>>>> phase(complex(-1.0, 0.0))\n",
    "3.1415926535897931\n",
    "</code>\n",
    "\n",
    "${abs}$\n",
    " \n",
    "This tool returns the modulus (absolute value) of complex number ${z}$.\n",
    "\n",
    "<code>>>> abs(complex(-1.0, 0.0))\n",
    "1.0\n",
    "</code>\n",
    "\n",
    "\n",
    "__Task__\n",
    "\n",
    "\n",
    "You are given a complex ${z}$. Your task is to convert it to polar coordinates.\n",
    "\n",
    "\n",
    "__Input Format__\n",
    "\n",
    "\n",
    "A single line containing the complex number . Note: complex() function can be used in python to convert the input as a complex number.\n",
    "\n",
    "\n",
    "__Constraints__\n",
    "\n",
    "Given number is a valid complex number\n",
    "\n",
    "\n",
    "__Output Format__\n",
    "\n",
    "\n",
    "Output two lines: \n",
    "\n",
    "The first line should contain the value of ${r}$.\n",
    "\n",
    "The second line should contain the value of $\\varphi$.\n",
    "\n",
    "__Sample Input__\n",
    "\n",
    "<code>1+2j\n",
    "</code>\n",
    "\n",
    "\n",
    "__Sample Output__\n",
    "\n",
    "<code>2.23606797749979 \n",
    "1.1071487177940904\n",
    "</code>\n",
    "\n",
    "\n",
    "_Note: The output should be correct up to 3 decimal places._"
   ]
  },
  {
   "cell_type": "code",
   "execution_count": null,
   "id": "ec41f654",
   "metadata": {},
   "outputs": [],
   "source": [
    "import cmath\n",
    "c = complex(input())\n",
    "print(abs(c))\n",
    "print(cmath.phase(c))\n"
   ]
  },
  {
   "cell_type": "markdown",
   "id": "627abda4",
   "metadata": {},
   "source": [
    "### Find Angle MBC"
   ]
  },
  {
   "cell_type": "code",
   "execution_count": 33,
   "id": "eafccda0",
   "metadata": {},
   "outputs": [
    {
     "name": "stdout",
     "output_type": "stream",
     "text": [
      "63°\n"
     ]
    }
   ],
   "source": [
    "import math\n",
    "\n",
    "AB = int(20)\n",
    "BC = int(10)\n",
    "degree_sign = u'\\N{DEGREE SIGN}'\n",
    "print(str(int(round(math.degrees(math.atan2(AB,BC)))))+degree_sign)"
   ]
  },
  {
   "cell_type": "markdown",
   "id": "da9b8289",
   "metadata": {},
   "source": [
    "### Triangle Quest 2"
   ]
  },
  {
   "cell_type": "code",
   "execution_count": 47,
   "id": "d48195d3",
   "metadata": {
    "scrolled": true
   },
   "outputs": [
    {
     "name": "stdout",
     "output_type": "stream",
     "text": [
      "1\n",
      "121\n",
      "12321\n",
      "1234321\n",
      "123454321\n",
      "12345654321\n",
      "1234567654321\n",
      "123456787654321\n",
      "12345678987654320\n"
     ]
    }
   ],
   "source": [
    "N = int(9)\n",
    "for i in range(1, N+1):\n",
    "    # This calculates each iterative palindormic triangle level\n",
    "    print(int(((10**i-1)/(9))**2))\n"
   ]
  },
  {
   "cell_type": "markdown",
   "id": "05a1961c",
   "metadata": {},
   "source": [
    "### Power - Mod Power"
   ]
  },
  {
   "cell_type": "code",
   "execution_count": 51,
   "id": "0bc95896",
   "metadata": {},
   "outputs": [
    {
     "name": "stdout",
     "output_type": "stream",
     "text": [
      "81\n",
      "1\n"
     ]
    }
   ],
   "source": [
    "a = int(3)\n",
    "b = int(4)\n",
    "m = int(5)\n",
    "print(pow(a,b))\n",
    "if b > 0: \n",
    "    print(pow(a,b,m))\n"
   ]
  },
  {
   "cell_type": "markdown",
   "id": "a8e86c1e",
   "metadata": {},
   "source": [
    "### Integers Come in All Sizes"
   ]
  },
  {
   "cell_type": "code",
   "execution_count": 53,
   "id": "f7eff879",
   "metadata": {
    "scrolled": true
   },
   "outputs": [
    {
     "name": "stdout",
     "output_type": "stream",
     "text": [
      "4710194409608608369201743232\n"
     ]
    }
   ],
   "source": [
    "a, b, c, d = int(input(), int(input(), int(input()), int(input())\n",
    "print((a**b) + (c**d))\n",
    "\n"
   ]
  },
  {
   "cell_type": "markdown",
   "id": "40cf760f",
   "metadata": {},
   "source": [
    "### Triangle Quest"
   ]
  },
  {
   "cell_type": "code",
   "execution_count": 56,
   "id": "2a92c16b",
   "metadata": {},
   "outputs": [
    {
     "name": "stdout",
     "output_type": "stream",
     "text": [
      "1\n",
      "22\n",
      "333\n",
      "4444\n"
     ]
    }
   ],
   "source": [
    "N = int(5)\n",
    "for i in range(1, N):\n",
    "    print(i*(10**i)//9)\n"
   ]
  }
 ],
 "metadata": {
  "kernelspec": {
   "display_name": "Python 3",
   "language": "python",
   "name": "python3"
  },
  "language_info": {
   "codemirror_mode": {
    "name": "ipython",
    "version": 3
   },
   "file_extension": ".py",
   "mimetype": "text/x-python",
   "name": "python",
   "nbconvert_exporter": "python",
   "pygments_lexer": "ipython3",
   "version": "3.8.8"
  }
 },
 "nbformat": 4,
 "nbformat_minor": 5
}
